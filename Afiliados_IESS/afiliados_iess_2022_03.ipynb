{
 "cells": [
  {
   "cell_type": "code",
   "execution_count": 1,
   "metadata": {},
   "outputs": [],
   "source": [
    "# Notebook para graficar la cantidad de afiliados (empleo registrado) en el IESS por rama de actividad\n",
    "# Fabian Villarreal Sosa (c)"
   ]
  },
  {
   "cell_type": "markdown",
   "metadata": {},
   "source": [
    "**Banco Central del Ecuador** <br>\n",
    "**Dirección Nacional de Programación y Regulación Monetaria y Financiera**\n",
    "\n",
    "Empleo registrado en el Instituto Ecuatoriano de Seguridad Social (IESS) por rama de actividad con base en la Clasificación Industrial Internacional Uniforme (CIIU). <br>\n",
    "Datos a marzo de 2022. <br>\n",
    "**Fuente:** [INEC - REESS](https://www.ecuadorencifras.gob.ec/registro-empleo-seguridad-social/)"
   ]
  },
  {
   "cell_type": "code",
   "execution_count": 2,
   "metadata": {},
   "outputs": [],
   "source": [
    "# Librerias\n",
    "import os\n",
    "import pandas as pd\n",
    "import numpy as np\n",
    "\n",
    "import seaborn as sns\n",
    "from highcharts import Highchart\n",
    "\n",
    "from ipywidgets import interact, interactive, fixed, interact_manual\n",
    "import ipywidgets as widgets"
   ]
  },
  {
   "cell_type": "code",
   "execution_count": 3,
   "metadata": {},
   "outputs": [],
   "source": [
    "# Estilo de los graficos\n",
    "sns.set_style('white')\n",
    "\n",
    "# Paleta de colores\n",
    "paleta = ['#1E4976', '#5FA3BF', '#BBBE64', '#EFCB68', '#E5825E', '#D05022']\n",
    "sns.set_palette(paleta)"
   ]
  },
  {
   "cell_type": "code",
   "execution_count": 4,
   "metadata": {},
   "outputs": [],
   "source": [
    "# Directorio\n",
    "os.chdir('D:/fvillarreal/Programacion Sector Real/Otros indicadores/Afiliados IESS')"
   ]
  },
  {
   "cell_type": "code",
   "execution_count": 5,
   "metadata": {},
   "outputs": [],
   "source": [
    "# Cargar datos (de script de R)\n",
    "df = pd.read_excel('Resultados/empleo_iess_2022_03.xlsx', sheet_name = 'empleo')\n",
    "labels = pd.read_excel('Resultados/empleo_iess_2022_03.xlsx', sheet_name = 'labels')"
   ]
  },
  {
   "cell_type": "code",
   "execution_count": 6,
   "metadata": {},
   "outputs": [],
   "source": [
    "# Condiciones para series de graficos\n",
    "max_anio = df['anio'].max()\n",
    "anios = list(range(max_anio-4, max_anio + 1, 1))\n",
    "meses = ['Ene', 'Feb', 'Mar', 'Abr', 'May', 'Jun', 'Jul', 'Ago', 'Sep', 'Oct', 'Nov', 'Dic']\n",
    "\n",
    "s_dict = dict()"
   ]
  },
  {
   "cell_type": "code",
   "execution_count": 7,
   "metadata": {},
   "outputs": [],
   "source": [
    "# Funcion para graficar\n",
    "def hchart(ciiu, anios):\n",
    "    H = Highchart(width = 750, height = 400)\n",
    "\n",
    "    # Titulo del grafico\n",
    "    title = list(labels.loc[labels['ciiu'] == ciiu, 'labels'])\n",
    "\n",
    "    # Series\n",
    "    for i in range(len(anios)):\n",
    "        s_dict[f's{i}'] = list(df.loc[(df['ciiu'] == ciiu) & (df['anio'] == anios[i]), 'empleo'])\n",
    "    \n",
    "    # Opciones\n",
    "    options = {\n",
    "        'title': {\n",
    "            'text': title,\n",
    "            'style' : {\n",
    "                'fontSize': '14px',\n",
    "                'fontWeight': 'bold'\n",
    "                }\n",
    "        },\n",
    "        'xAxis': {\n",
    "            'categories': meses\n",
    "        },\n",
    "        'yAxis': {\n",
    "            'title': {\n",
    "                'text': 'Empleados',\n",
    "                'style': {'fontWeight': 'bold'}\n",
    "                }\n",
    "        },\n",
    "        'plotOptions': {\n",
    "            'line': {\n",
    "                'colors': paleta,\n",
    "                'marker': {\n",
    "                    'lineWidth': 2,\n",
    "                    'symbol': 'circle'\n",
    "                }\n",
    "            }\n",
    "        },\n",
    "        'colors': paleta\n",
    "    }\n",
    "\n",
    "    H.set_dict_options(options)\n",
    "\n",
    "    H\n",
    "\n",
    "    for i in range(len(anios)):\n",
    "        H.add_data_set(s_dict[f's{i}'], 'line', str(anios[i]))\n",
    "    \n",
    "    return H"
   ]
  },
  {
   "cell_type": "code",
   "execution_count": 8,
   "metadata": {},
   "outputs": [],
   "source": [
    "def hplot(ciiu):\n",
    "    print('')\n",
    "    return hchart(ciiu, anios)"
   ]
  },
  {
   "cell_type": "code",
   "execution_count": 9,
   "metadata": {},
   "outputs": [],
   "source": [
    "ddmenu = widgets.Dropdown(\n",
    "    options = list(labels['ciiu']),\n",
    "    value = list(labels['ciiu'])[0],\n",
    "    description = 'Industria CIIU'\n",
    ")"
   ]
  },
  {
   "cell_type": "markdown",
   "metadata": {},
   "source": [
    "**Empleo registrado por rama de actividad (CIIU)**"
   ]
  },
  {
   "cell_type": "code",
   "execution_count": 10,
   "metadata": {},
   "outputs": [
    {
     "data": {
      "application/vnd.jupyter.widget-view+json": {
       "model_id": "f68e7f070f87426281b1f84c6a24f61f",
       "version_major": 2,
       "version_minor": 0
      },
      "text/plain": [
       "interactive(children=(Dropdown(description='Industria CIIU', options=('A', 'B', 'C', 'D', 'E', 'F', 'G', 'H', …"
      ]
     },
     "metadata": {},
     "output_type": "display_data"
    }
   ],
   "source": [
    "interact(hplot, ciiu = ddmenu);"
   ]
  },
  {
   "cell_type": "code",
   "execution_count": 11,
   "metadata": {},
   "outputs": [
    {
     "data": {
      "text/html": [
       "<script src=\"https://cdn.rawgit.com/parente/4c3e6936d0d7a46fd071/raw/65b816fb9bdd3c28b4ddf3af602bfd6015486383/code_toggle.js\"></script>\n"
      ],
      "text/plain": [
       "<IPython.core.display.HTML object>"
      ]
     },
     "metadata": {},
     "output_type": "display_data"
    }
   ],
   "source": [
    "%%html\n",
    "<script src=\"https://cdn.rawgit.com/parente/4c3e6936d0d7a46fd071/raw/65b816fb9bdd3c28b4ddf3af602bfd6015486383/code_toggle.js\"></script>"
   ]
  }
 ],
 "metadata": {
  "kernelspec": {
   "display_name": "Python 3 (ipykernel)",
   "language": "python",
   "name": "python3"
  },
  "language_info": {
   "codemirror_mode": {
    "name": "ipython",
    "version": 3
   },
   "file_extension": ".py",
   "mimetype": "text/x-python",
   "name": "python",
   "nbconvert_exporter": "python",
   "pygments_lexer": "ipython3",
   "version": "3.9.13"
  },
  "vscode": {
   "interpreter": {
    "hash": "b22a7390d0f9410c2c8a1f86b8606fd8f64cb682abd83aadf69df245a85634a3"
   }
  },
  "widgets": {
   "application/vnd.jupyter.widget-state+json": {
    "state": {
     "1afa8a94b26a480f8f8994e6de930c46": {
      "model_module": "@jupyter-widgets/base",
      "model_module_version": "2.0.0",
      "model_name": "LayoutModel",
      "state": {}
     },
     "520f10c169c846bc87ca640d434f77ac": {
      "model_module": "@jupyter-widgets/base",
      "model_module_version": "2.0.0",
      "model_name": "LayoutModel",
      "state": {}
     },
     "85b4f48db50c47588c141ae9c1801846": {
      "model_module": "@jupyter-widgets/controls",
      "model_module_version": "2.0.0",
      "model_name": "DropdownModel",
      "state": {
       "_options_labels": [
        "A",
        "B",
        "C",
        "D",
        "E",
        "F",
        "G",
        "H",
        "I",
        "J",
        "K",
        "L",
        "M",
        "N",
        "O",
        "P",
        "Q",
        "R",
        "S",
        "T",
        "U"
       ],
       "description": "Industria CIIU",
       "index": 0,
       "layout": "IPY_MODEL_1afa8a94b26a480f8f8994e6de930c46",
       "style": "IPY_MODEL_f64f0278010d48d99d65825bdebbfb5d"
      }
     },
     "86ed9cec228e4d11abc99acdbef7a6d9": {
      "model_module": "@jupyter-widgets/base",
      "model_module_version": "2.0.0",
      "model_name": "LayoutModel",
      "state": {}
     },
     "c966d30ed8224e599f05f09e9620c3fb": {
      "model_module": "@jupyter-widgets/output",
      "model_module_version": "1.0.0",
      "model_name": "OutputModel",
      "state": {
       "layout": "IPY_MODEL_86ed9cec228e4d11abc99acdbef7a6d9",
       "outputs": [
        {
         "name": "stdout",
         "output_type": "stream",
         "text": "\n"
        },
        {
         "data": {
          "text/html": "<iframe style=\"border:0;outline:none;overflow:hidden\" srcdoc=\"&lt;!DOCTYPE html&gt; &lt;html lang=&quot;en&quot;&gt; &lt;head&gt; &lt;meta charset=&quot;utf-8&quot; /&gt; &lt;link href=&quot;https://www.highcharts.com/highslide/highslide.css&quot; rel=&quot;stylesheet&quot; /&gt; &lt;script type=&quot;text/javascript&quot; src=&quot;https://ajax.googleapis.com/ajax/libs/jquery/1.9.1/jquery.min.js&quot;&gt;&lt;/script&gt; &lt;script type=&quot;text/javascript&quot; src=&quot;https://code.highcharts.com/6/highcharts.js&quot;&gt;&lt;/script&gt; &lt;script type=&quot;text/javascript&quot; src=&quot;https://code.highcharts.com/6/highcharts-more.js&quot;&gt;&lt;/script&gt; &lt;script type=&quot;text/javascript&quot; src=&quot;https://code.highcharts.com/6/modules/heatmap.js&quot;&gt;&lt;/script&gt; &lt;script type=&quot;text/javascript&quot; src=&quot;https://code.highcharts.com/6/modules/exporting.js&quot;&gt;&lt;/script&gt; &lt;/head&gt; &lt;body style=&quot;margin:0;padding:0&quot;&gt; &lt;div id=&quot;container&quot; style=&quot;width:750px;height:400px;&quot;&gt;Loading....&lt;/div&gt; &lt;script&gt; $(function(){ Highcharts.setOptions({&quot;global&quot;: {}, &quot;lang&quot;: {}}); var option = {&quot;chart&quot;: {&quot;renderTo&quot;: &quot;container&quot;, &quot;width&quot;: 750, &quot;height&quot;: 400}, &quot;colors&quot;: [&quot;#1E4976&quot;, &quot;#5FA3BF&quot;, &quot;#BBBE64&quot;, &quot;#EFCB68&quot;, &quot;#E5825E&quot;, &quot;#D05022&quot;], &quot;credits&quot;: {&quot;enabled&quot;: false}, &quot;drilldown&quot;: {}, &quot;exporting&quot;: {}, &quot;labels&quot;: {}, &quot;legend&quot;: {}, &quot;loading&quot;: {}, &quot;navigation&quot;: {}, &quot;pane&quot;: {}, &quot;plotOptions&quot;: {&quot;line&quot;: {&quot;marker&quot;: {&quot;lineWidth&quot;: 2, &quot;symbol&quot;: &quot;circle&quot;}}}, &quot;series&quot;: {}, &quot;subtitle&quot;: {}, &quot;title&quot;: {&quot;text&quot;: [&quot;Agricultura, ganader\\u00eda, silvicultura y pesca&quot;], &quot;style&quot;: {&quot;fontSize&quot;: &quot;14px&quot;, &quot;fontWeight&quot;: &quot;bold&quot;}}, &quot;tooltip&quot;: {}, &quot;xAxis&quot;: {&quot;categories&quot;: [&quot;Ene&quot;, &quot;Feb&quot;, &quot;Mar&quot;, &quot;Abr&quot;, &quot;May&quot;, &quot;Jun&quot;, &quot;Jul&quot;, &quot;Ago&quot;, &quot;Sep&quot;, &quot;Oct&quot;, &quot;Nov&quot;, &quot;Dic&quot;]}, &quot;yAxis&quot;: {&quot;title&quot;: {&quot;text&quot;: &quot;Empleados&quot;, &quot;style&quot;: {&quot;fontWeight&quot;: &quot;bold&quot;}}}}; var chart = new Highcharts.Chart(option); var data = [{&quot;data&quot;: [220453, 219122, 217939, 220748, 221032, 220895, 222932, 223883, 224880, 226749, 226479, 225270], &quot;type&quot;: &quot;line&quot;, &quot;name&quot;: &quot;2018&quot;}, {&quot;data&quot;: [226340, 223222, 220751, 222594, 221155, 220609, 222905, 223803, 224678, 224897, 224714, 223436], &quot;type&quot;: &quot;line&quot;, &quot;name&quot;: &quot;2019&quot;}, {&quot;data&quot;: [226139, 222788, 218532, 208092, 204825, 205203, 206580, 208126, 210934, 213860, 214426, 214005], &quot;type&quot;: &quot;line&quot;, &quot;name&quot;: &quot;2020&quot;}, {&quot;data&quot;: [216786, 215755, 214355, 217607, 217647, 218339, 220452, 222280, 224594, 226665, 227710, 227398], &quot;type&quot;: &quot;line&quot;, &quot;name&quot;: &quot;2021&quot;}, {&quot;data&quot;: [229741, 227365, 225462], &quot;type&quot;: &quot;line&quot;, &quot;name&quot;: &quot;2022&quot;}]; var dataLen = data.length; for (var ix = 0; ix &lt; dataLen; ix++) { chart.addSeries(data[ix]); } }); &lt;/script&gt; &lt;/body&gt; &lt;/html&gt;\" height=400 width=750></iframe>",
          "text/plain": "<highcharts.highcharts.highcharts.Highchart at 0x17a6cb337c0>"
         },
         "metadata": {},
         "output_type": "display_data"
        }
       ]
      }
     },
     "f64f0278010d48d99d65825bdebbfb5d": {
      "model_module": "@jupyter-widgets/controls",
      "model_module_version": "2.0.0",
      "model_name": "DescriptionStyleModel",
      "state": {
       "description_width": ""
      }
     },
     "f68e7f070f87426281b1f84c6a24f61f": {
      "model_module": "@jupyter-widgets/controls",
      "model_module_version": "2.0.0",
      "model_name": "VBoxModel",
      "state": {
       "_dom_classes": [
        "widget-interact"
       ],
       "children": [
        "IPY_MODEL_85b4f48db50c47588c141ae9c1801846",
        "IPY_MODEL_c966d30ed8224e599f05f09e9620c3fb"
       ],
       "layout": "IPY_MODEL_520f10c169c846bc87ca640d434f77ac"
      }
     }
    },
    "version_major": 2,
    "version_minor": 0
   }
  }
 },
 "nbformat": 4,
 "nbformat_minor": 4
}
